{
 "cells": [
  {
   "cell_type": "markdown",
   "metadata": {},
   "source": [
    "# Redes neuronales junto con NeuralODEs"
   ]
  },
  {
   "cell_type": "markdown",
   "metadata": {},
   "source": [
    "Vamos a mezclar los ejemplos vistos anteriormente, para ello vamos a crear una red neuronal la cual también pase por una NeuralODE"
   ]
  },
  {
   "cell_type": "code",
   "execution_count": null,
   "metadata": {},
   "outputs": [],
   "source": [
    "using Flux\n",
    "using DifferentialEquations\n",
    "using DiffEqFlux\n",
    "using Plots\n",
    "using Flux: train!\n",
    "using Distributions"
   ]
  },
  {
   "cell_type": "markdown",
   "metadata": {},
   "source": [
    "Comenzamos como simpre generando los dastos que vamos a utilizar"
   ]
  },
  {
   "cell_type": "code",
   "execution_count": null,
   "metadata": {},
   "outputs": [],
   "source": [
    "function Noise_Sine(x)\n",
    "    return sin(2π*x) + rand(Normal(0,0.1))\n",
    "end;"
   ]
  },
  {
   "cell_type": "code",
   "execution_count": null,
   "metadata": {},
   "outputs": [],
   "source": [
    "t_train = Float32.(hcat(-1:0.01:1...))\n",
    "#t_train_normalized = Float32.((t_train .- mean(t_train)) ./ std(t_train))\n",
    "y_train = Float32.(Noise_Sine.(t_train))\n",
    "trange = t_train[1,:]\n",
    "tspan = (t_train[1], t_train[end])"
   ]
  },
  {
   "cell_type": "code",
   "execution_count": null,
   "metadata": {},
   "outputs": [],
   "source": [
    "scatter(t_train[1,:], y_train[1,:], label=\"training data\", title=\"Sine function with noise\")"
   ]
  },
  {
   "cell_type": "code",
   "execution_count": null,
   "metadata": {},
   "outputs": [],
   "source": [
    "dudt = Chain(x -> 2π*cos.(2π.*x),\n",
    "            Dense(1 => 30, relu),\n",
    "            Dense(30 => 25, relu),\n",
    "            Dense(25 => 1, tanh_fast))"
   ]
  },
  {
   "cell_type": "markdown",
   "metadata": {},
   "source": [
    "A esta NN la vamos a hacer pasar por una NerualODE y extraemos los paráemtros de este modelo"
   ]
  },
  {
   "cell_type": "code",
   "execution_count": null,
   "metadata": {},
   "outputs": [],
   "source": [
    "n_ode = NeuralODE(dudt, tspan, Tsit5(), saveat = trange, )\n",
    "ps = Flux.params(n_ode)"
   ]
  },
  {
   "cell_type": "markdown",
   "metadata": {},
   "source": [
    "Creamos una función para crear las predicciones de la NODE empezando en el tiempo inicial t0."
   ]
  },
  {
   "cell_type": "code",
   "execution_count": null,
   "metadata": {},
   "outputs": [],
   "source": [
    "t0 = Float32[0.0]\n",
    "function predict_n_ode()\n",
    "    n_ode(t0)\n",
    "end"
   ]
  },
  {
   "cell_type": "markdown",
   "metadata": {},
   "source": [
    "Creamos la función costo para esta red neruronal, igual que antes usamos mse"
   ]
  },
  {
   "cell_type": "code",
   "execution_count": null,
   "metadata": {},
   "outputs": [],
   "source": [
    "function loss_node()\n",
    "    pred = predict_n_ode()\n",
    "    pred = vcat(pred.u...)\n",
    "    return mean(abs2, pred .- y_train[1,:])\n",
    "end"
   ]
  },
  {
   "cell_type": "markdown",
   "metadata": {},
   "source": [
    "Veamos como se ve inicialente las predicciones de la red neuronal"
   ]
  },
  {
   "cell_type": "code",
   "execution_count": null,
   "metadata": {},
   "outputs": [],
   "source": [
    "pred0 = predict_n_ode()\n",
    "scatter(trange, pred0[1,:], label=\"initial prediction\", title=\"Sine function with noise\")\n",
    "scatter!(trange, y_train[1,:], label = \"training data\")"
   ]
  },
  {
   "cell_type": "markdown",
   "metadata": {},
   "source": [
    "Seteamos la cantidad de épocas a entrenar, el ratio de aprendizaje y el modelo de optimización que vamos a utilizar. Además creamos la función callback para obtener información de cada época de entrenamiento"
   ]
  },
  {
   "cell_type": "code",
   "execution_count": null,
   "metadata": {},
   "outputs": [],
   "source": [
    "data = Iterators.repeated((), 1000)\n",
    "learning_rate = 0.01\n",
    "opt = ADAM(learning_rate)\n",
    "iter = 0\n",
    "losses = []\n",
    "cb = function () #callback function to observe training\n",
    "  global iter += 1\n",
    "  actual_loss = loss_node()\n",
    "  if(iter%100 == 0)\n",
    "    cur_pred = predict_n_ode()\n",
    "    println(\"Epoch: $iter | Loss: $actual_loss\")\n",
    "    pl = scatter(trange,y_train[1,:],label=\"data\")\n",
    "    scatter!(pl,trange,cur_pred[1,:],label=\"prediction\")\n",
    "    display(plot(pl))\n",
    "  end\n",
    "  push!(losses, actual_loss)\n",
    "end\n",
    "\n",
    "Flux.train!(loss_node, ps, data, opt, cb = cb)\n"
   ]
  }
 ],
 "metadata": {
  "kernelspec": {
   "display_name": "Julia 1.9.1",
   "language": "julia",
   "name": "julia-1.9"
  },
  "language_info": {
   "file_extension": ".jl",
   "mimetype": "application/julia",
   "name": "julia",
   "version": "1.9.1"
  },
  "orig_nbformat": 4
 },
 "nbformat": 4,
 "nbformat_minor": 2
}
